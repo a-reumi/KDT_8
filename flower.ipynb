{
 "cells": [
  {
   "cell_type": "code",
   "execution_count": null,
   "metadata": {},
   "outputs": [
    {
     "name": "stdout",
     "output_type": "stream",
     "text": [
      "✅ 저장 완료: ../PROJECT/Project/흰색_색상추출결과.csv\n"
     ]
    }
   ],
   "source": [
    "import os\n",
    "import cv2\n",
    "import numpy as np\n",
    "import pandas as pd\n",
    "from sklearn.cluster import KMeans\n",
    "\n",
    "# ✅ 경로: 너의 흰색 꽃 이미지 폴더\n",
    "base_dir = r\"../PROJECT/Project/data/white\"\n",
    "output_path = r\"../PROJECT/Project/흰색_색상추출결과.csv\"\n",
    "\n",
    "data_rows = []\n",
    "\n",
    "for flower_name in os.listdir(base_dir):\n",
    "    flower_path = os.path.join(base_dir, flower_name)\n",
    "    if not os.path.isdir(flower_path):\n",
    "        continue\n",
    "\n",
    "    for img_name in os.listdir(flower_path):\n",
    "        img_path = os.path.join(flower_path, img_name)\n",
    "        try:\n",
    "            img = cv2.imread(img_path)\n",
    "            if img is None:\n",
    "                continue\n",
    "            img = cv2.cvtColor(img, cv2.COLOR_BGR2RGB)\n",
    "            img = cv2.resize(img, (100, 100))\n",
    "\n",
    "            pixels = img.reshape(-1, 3)\n",
    "            kmeans = KMeans(n_clusters=5, random_state=42, n_init='auto')\n",
    "            kmeans.fit(pixels)\n",
    "            colors = kmeans.cluster_centers_.astype(int).flatten()\n",
    "\n",
    "            row = [flower_name, img_name] + colors.tolist()\n",
    "            data_rows.append(row)\n",
    "        except Exception as e:\n",
    "            print(f\"Error processing {img_path}: {e}\")\n",
    "\n",
    "columns = [\"label\", \"filename\"] + [f\"{c}{i+1}\" for i in range(5) for c in [\"R\", \"G\", \"B\"]]\n",
    "df = pd.DataFrame(data_rows, columns=columns)\n",
    "df.to_csv(output_path, index=False)\n",
    "\n",
    "print(f\"✅ 저장 완료: {output_path}\") \n"
   ]
  },
  {
   "cell_type": "code",
   "execution_count": null,
   "metadata": {},
   "outputs": [],
   "source": []
  }
 ],
 "metadata": {
  "kernelspec": {
   "display_name": "ML_CV",
   "language": "python",
   "name": "python3"
  },
  "language_info": {
   "codemirror_mode": {
    "name": "ipython",
    "version": 3
   },
   "file_extension": ".py",
   "mimetype": "text/x-python",
   "name": "python",
   "nbconvert_exporter": "python",
   "pygments_lexer": "ipython3",
   "version": "3.9.21"
  }
 },
 "nbformat": 4,
 "nbformat_minor": 2
}
